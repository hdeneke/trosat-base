{
 "cells": [
  {
   "cell_type": "markdown",
   "metadata": {},
   "source": [
    "# trosat.cfconv module for creating CF-compliant NetCDF"
   ]
  },
  {
   "cell_type": "markdown",
   "metadata": {},
   "source": [
    "The cfconv Python package is meant to simplify the definition and creation of [NetCDF4 files](https://www.unidata.ucar.edu/software/netcdf/) following the [Climate and Forecast Metadata conventions](https://cfconventions.org). In particular, it uses the [CF-JSON format](https://cf-json.org/specification) as means to store global and variable attributes and to define dimensions and variables."
   ]
  },
  {
   "cell_type": "markdown",
   "metadata": {},
   "source": [
    "## Installation and Requirements\n",
    "\n",
    "This module requires addict (to also allow Javascript-like notation for accessing objects, eg., write `cfdict.variables` instead of `cfdict['variables']`). An optional dependency is the jstyleson module. In this case, json files are allowed to contain comments.\n",
    "\n",
    "The following commands can be used to install both packages:\n",
    "\n",
    "        > pip install jstyleson\n",
    "        > pip install addict\n",
    "\n",
    "To install the module, use the following two methods:\n",
    "\n",
    "1. Manual download/install\n",
    "        > wget https://github.com/hdeneke/trosat-base/archive/master.tar.gz\n",
    "        > tar -xf master.tar.gz\n",
    "        > cd trosat-base-master\n",
    "        > python setup.py install\n",
    "    \n",
    "2. Install via PIP\n",
    "        > pip install git+https://github.com/hdeneke/trosat-base\n",
    "   \n",
    "TBD:\n",
    "* register project at PyPI\n",
    "* create release version\n",
    "* list dependencies in setup.py"
   ]
  },
  {
   "cell_type": "markdown",
   "metadata": {},
   "source": [
    "## Basic Usage\n",
    "The following example illustrates the usage of this package.\n",
    "\n",
    "First, import required modules:"
   ]
  },
  {
   "cell_type": "code",
   "execution_count": null,
   "metadata": {},
   "outputs": [],
   "source": [
    "import os\n",
    "import json\n",
    "import numpy as np\n",
    "from trosat import cfconv as cf"
   ]
  },
  {
   "cell_type": "markdown",
   "metadata": {},
   "source": [
    "Now read in a cf-json file, which returns a dictionary describing the basic structure in terms of attributes, dimensions and variables of the NetCDF file:"
   ]
  },
  {
   "cell_type": "code",
   "execution_count": null,
   "metadata": {},
   "outputs": [],
   "source": [
    "cfdict = cf.read_cfjson('example_cfmeta.c01.json')"
   ]
  },
  {
   "cell_type": "markdown",
   "metadata": {},
   "source": [
    "For this example, the JSON dictionary looks as follows:"
   ]
  },
  {
   "cell_type": "code",
   "execution_count": null,
   "metadata": {},
   "outputs": [],
   "source": [
    "from json import JSONEncoder\n",
    "from attrdict import AttrMap\n",
    "\n",
    "class CFJSONEncoder(JSONEncoder):\n",
    "    def default(self, obj):\n",
    "        if isinstance(obj, AttrMap):\n",
    "            return dict(obj)\n",
    "        return super().default(obj)\n",
    "\n",
    "print(json.dumps(dict(cfdict),indent=4, cls=CFJSONEncoder))"
   ]
  },
  {
   "cell_type": "markdown",
   "metadata": {},
   "source": [
    "Create a NetCDF4 file based on the definitions given in the dictionary:"
   ]
  },
  {
   "cell_type": "code",
   "execution_count": null,
   "metadata": {},
   "outputs": [],
   "source": [
    "f = cf.create_file('test.nc', cfdict=cfdict)"
   ]
  },
  {
   "cell_type": "markdown",
   "metadata": {},
   "source": [
    "Print the string representation of the generated file, showing dimensions etc:"
   ]
  },
  {
   "cell_type": "code",
   "execution_count": null,
   "metadata": {},
   "outputs": [],
   "source": [
    "print(f)"
   ]
  },
  {
   "cell_type": "markdown",
   "metadata": {},
   "source": [
    "Initialize/set data, using it as standard netCDF4.Dataset object "
   ]
  },
  {
   "cell_type": "code",
   "execution_count": null,
   "metadata": {},
   "outputs": [],
   "source": [
    "f['lat'][:] = 0.0 # or use a numpy array, e.g. = np.ones((720,1200),dtype=np.float32)"
   ]
  },
  {
   "cell_type": "markdown",
   "metadata": {},
   "source": [
    "When done, close file"
   ]
  },
  {
   "cell_type": "code",
   "execution_count": null,
   "metadata": {},
   "outputs": [],
   "source": [
    "f.close()"
   ]
  },
  {
   "cell_type": "markdown",
   "metadata": {},
   "source": [
    "## Extensions, Usage Tips and Tricks"
   ]
  },
  {
   "cell_type": "markdown",
   "metadata": {},
   "source": [
    "### Comments\n",
    "The JSON format does not allow comments, while comments are useful and encouraged for annotations of attributes etc. Therefore, the jstyleson package is used for parsing JSON if it is available on your Python installation. This might become a hard dependency in the future. Thus, if you have jstyleson installed, comments in the JSON are tolerated. Note that you can also use jstyleson to remove comments."
   ]
  },
  {
   "cell_type": "markdown",
   "metadata": {},
   "source": [
    "### Variable Encoding\n",
    "As an extension of CF-JSON, it is possible to set various parameters for encoding the dataset in the netCDF4 files.  For this purpose, an \"encoding\" object can be added globally (default setting for all varialbes) or inside the variable object (per variable settings). The parameters are then passed as keyword arguments to the netCDF4.Dataset.createVariable function when the variables are created.\n",
    "\n",
    "The following json-formatted \"encoding\" object enables GZIP compression and chunking:\n",
    "    \"encoding\" : { \"zlib\":true, \"complevel\":6, \"chunksizes\": [60,60]}\n",
    "\n",
    "NB: Note that encoding parameters are specific to the NetCDF4 library.\n",
    "!!! NB: not yet fully implemented !!!"
   ]
  },
  {
   "cell_type": "code",
   "execution_count": null,
   "metadata": {},
   "outputs": [],
   "source": [
    "# Add encoding object manually to cfdict\n",
    "cfdict['variables']['elev']['encoding'] = {\"zlib\":True, \"complevel\":6, \"chunksizes\": [60,60]}\n",
    "\n",
    "# create file\n",
    "f = cf.create_file('testz.nc', cfdict=cfdict)\n",
    "print(f['elev'])\n",
    "print('complevel: ', f['elev'].filters().get('complevel', False))\n",
    "f.close()"
   ]
  },
  {
   "cell_type": "markdown",
   "metadata": {},
   "source": [
    "### netCDF4 Mode Settings\n",
    "The netCDF4 Python pacakge features various modes for accessing/reading datasets. Specifically, the \"scale_factor\" and \"add_offset\" attributes together with an integer datatype can be used to convert float variables to an integer on-disk representation.\n",
    "\n"
   ]
  },
  {
   "cell_type": "code",
   "execution_count": null,
   "metadata": {},
   "outputs": [],
   "source": [
    "# store data using autoscaling\n",
    "f = cf.create_file('test1.nc', cfdict=cfdict)\n",
    "f.set_auto_scale(True)\n",
    "x = 1000.0*np.random.rand(720,1200)\n",
    "f['elev'][:,:] = x\n",
    "f.close()\n",
    "\n",
    "# store data without scaling\n",
    "f = cf.create_file('test2.nc', cfdict=cfdict)\n",
    "f.set_auto_scale(False)\n",
    "a,b = f['elev'].scale_factor, f['elev'].add_offset\n",
    "# scaling: s = a*u+b => u=(s-b)/a\n",
    "f['elev'][:,:] = ((x-b)/a).round().astype(int)\n",
    "f.close()\n",
    "\n",
    "import netCDF4 as nc\n",
    "x1 = nc.Dataset('test1.nc','r')['elev']\n",
    "x2 = nc.Dataset('test2.nc','r')['elev']\n",
    "assert np.any(x1[:]==x2[:])"
   ]
  },
  {
   "cell_type": "code",
   "execution_count": null,
   "metadata": {},
   "outputs": [],
   "source": [
    "x1.set_auto_scale(True)\n",
    "print(x1[:])\n",
    "x1.set_auto_scale(False)\n",
    "print(x1[:])"
   ]
  },
  {
   "cell_type": "code",
   "execution_count": null,
   "metadata": {},
   "outputs": [],
   "source": [
    "x2.set_auto_scale(True)\n",
    "print(x2[:])\n",
    "x2.set_auto_scale(False)\n",
    "print(x2[:])"
   ]
  }
 ],
 "metadata": {
  "kernelspec": {
   "display_name": "Python 3 (ipykernel)",
   "language": "python",
   "name": "python3"
  },
  "language_info": {
   "codemirror_mode": {
    "name": "ipython",
    "version": 3
   },
   "file_extension": ".py",
   "mimetype": "text/x-python",
   "name": "python",
   "nbconvert_exporter": "python",
   "pygments_lexer": "ipython3",
   "version": "3.9.9"
  }
 },
 "nbformat": 4,
 "nbformat_minor": 2
}
